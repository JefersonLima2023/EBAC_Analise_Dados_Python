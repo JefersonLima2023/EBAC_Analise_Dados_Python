{
  "nbformat": 4,
  "nbformat_minor": 0,
  "metadata": {
    "colab": {
      "provenance": [],
      "authorship_tag": "ABX9TyNARtPyu4w5mDO2TwzJRDMa",
      "include_colab_link": true
    },
    "kernelspec": {
      "name": "python3",
      "display_name": "Python 3"
    },
    "language_info": {
      "name": "python"
    }
  },
  "cells": [
    {
      "cell_type": "markdown",
      "metadata": {
        "id": "view-in-github",
        "colab_type": "text"
      },
      "source": [
        "<a href=\"https://colab.research.google.com/github/JefersonLima2023/EBAC_Analise_Dados_Python/blob/main/ExercicioModulo6ArquivosFuncoes.ipynb\" target=\"_parent\"><img src=\"https://colab.research.google.com/assets/colab-badge.svg\" alt=\"Open In Colab\"/></a>"
      ]
    },
    {
      "cell_type": "markdown",
      "source": [
        "# Neste exercício, vamos trabalhar com os arquivos de csv e o texto definido abaixo. Execute cada uma das células de código para escrever os arquivos em sua máquina virtual.\n",
        "\n",
        "## carros.csv : arquivo csv com informações sobre carros (venda, manutenção, portas, etc.)."
      ],
      "metadata": {
        "id": "7SRtGZ4AfiJx"
      }
    },
    {
      "cell_type": "code",
      "execution_count": 31,
      "metadata": {
        "colab": {
          "base_uri": "https://localhost:8080/"
        },
        "id": "SefEMFsvfYYR",
        "outputId": "143b81a3-dfb9-441b-d72f-b76c8d990a4a"
      },
      "outputs": [
        {
          "output_type": "stream",
          "name": "stdout",
          "text": [
            "Overwriting música.txt\n"
          ]
        }
      ],
      "source": [
        "%%writefile música.txt\n",
        "Roda Viva\n",
        "Chico Buarque\n",
        "Tem dias que a gente se sente\n",
        "Como quem partiu ou morreu\n",
        "A gente estancou de repente\n",
        "Ou foi o mundo então que cresceu\n",
        "A gente quer ter voz ativa\n",
        "No nosso destino mandar\n",
        "Mas eis que chega à roda viva\n",
        "E carrega o destino pra lá\n",
        "Roda mundo, roda gigante\n",
        "Roda moinho, roda pião\n",
        "O tempo rodou num instante\n",
        "Nas voltas do meu coração\n",
        "A gente vai contra a corrente\n",
        "Até não poder resistir\n",
        "Na volta do barco é que sente\n",
        "Quanto deixou de cumprir\n",
        "Faz tempo que a gente cultiva\n",
        "A mais linda roseira que há\n",
        "Mas eis que chega à roda viva\n",
        "E carrega a roseira pra lá\n",
        "Roda mundo, roda gigante\n",
        "Roda moinho, roda pião"
      ]
    },
    {
      "cell_type": "code",
      "source": [
        "%%writefile carros.csv\n",
        "id,valor_venda,valor_manutencao,portas,pessoas,porta_malas\n",
        "1,vhigh,med,2,2,small\n",
        "2,med,vhigh,2,2,small\n",
        "3,low,vhigh,2,2,small\n",
        "4,low,high,2,2,small\n",
        "5,low,high,2,2,small\n",
        "6,low,high,4,4,big\n",
        "7,low,high,4,4,big\n",
        "8,low,med,2,2,small\n",
        "9,low,med,2,2,small\n",
        "10,low,med,2,2,small\n",
        "11,low,med,4,4,big\n",
        "12,low,low,2,2,small\n",
        "13,low,low,4,4,small\n",
        "14,low,low,4,4,med"
      ],
      "metadata": {
        "colab": {
          "base_uri": "https://localhost:8080/"
        },
        "id": "Yp1UBFyFFS0h",
        "outputId": "df3b0d9e-3da4-4d00-f4ad-1ff2617f0278"
      },
      "execution_count": 32,
      "outputs": [
        {
          "output_type": "stream",
          "name": "stdout",
          "text": [
            "Overwriting carros.csv\n"
          ]
        }
      ]
    },
    {
      "cell_type": "markdown",
      "source": [
        "## 1º Exercício: Classe para ler arquivos de texto\n",
        "## Parte 1:\n",
        "## 1.Crie uma classe ArquivoTexto. Ela deve conter os seguintes atributos:\n",
        "## self.arquivo: atributo do tipo str com o nome do arquivo;\n",
        "## self.conteudo: atributo do tipo list onde cada elemento é uma linha do arquivo;\n",
        "## 2.A classe também deve conter o seguinte método:\n",
        "## self.extrair_linha: Método que recebe como parâmetro o número da linha e retorna seu conteúdo.\n"
      ],
      "metadata": {
        "id": "CeYRPpfbfjmy"
      }
    },
    {
      "cell_type": "code",
      "source": [
        "class ArquivoTexto:\n",
        "    def __init__(self, nome_arquivo):\n",
        "        self.arquivo = nome_arquivo\n",
        "        self.conteudo = []\n",
        "        with open(nome_arquivo, 'r') as file:\n",
        "            self.conteudo = file.readlines()\n",
        "\n",
        "    def extrair_linha(self, numero_linha):\n",
        "        if 1 <= numero_linha <= len(self.conteudo):\n",
        "            return self.conteudo[numero_linha - 1]\n",
        "        else:\n",
        "            return \"Número de linha inválido.\""
      ],
      "metadata": {
        "id": "r9XeT_kYhdTd"
      },
      "execution_count": 33,
      "outputs": []
    },
    {
      "cell_type": "code",
      "source": [
        "# Testando a classe ArquivoTexto com o arquivo de música fornecido\n",
        "arquivo_musica = ArquivoTexto(\"música.txt\")\n",
        "print(arquivo_musica.extrair_linha(2))  # Saída: \"Chico Buarque\\n\"\n",
        "print(arquivo_musica.extrair_linha(5))  # Saída: \"A gente quer ter voz ativa\\n\""
      ],
      "metadata": {
        "colab": {
          "base_uri": "https://localhost:8080/"
        },
        "id": "MOvAIkn3hiE7",
        "outputId": "ef2e3e50-9145-4729-8fc8-a0a46cc93f5b"
      },
      "execution_count": 34,
      "outputs": [
        {
          "output_type": "stream",
          "name": "stdout",
          "text": [
            "Chico Buarque\n",
            "\n",
            "A gente estancou de repente\n",
            "\n"
          ]
        }
      ]
    },
    {
      "cell_type": "code",
      "source": [
        "class ArquivoTexto:\n",
        "    def __init__(self, nome_arquivo):\n",
        "        self.arquivo = nome_arquivo\n",
        "        self.conteudo = []\n",
        "        try:\n",
        "            with open(nome_arquivo, 'r') as file:\n",
        "                self.conteudo = file.readlines()\n",
        "        except FileNotFoundError:\n",
        "            print(f\"O arquivo {nome_arquivo} não foi encontrado.\")\n",
        "\n",
        "    def extrair_linha(self, numero_linha):\n",
        "        if 1 <= numero_linha <= len(self.conteudo):\n",
        "            return self.conteudo[numero_linha - 1].strip()\n",
        "        else:\n",
        "            return \"Número de linha inválido.\"\n",
        "\n",
        "class ArquivoCSV(ArquivoTexto):\n",
        "    def __init__(self, nome_arquivo):\n",
        "        super().__init__(nome_arquivo)\n",
        "        self.colunas = []\n",
        "        if self.conteudo:\n",
        "            self.colunas = self.conteudo[0].strip().split(',')\n",
        "\n",
        "    def extrair_coluna_da_linha(self, numero_linha, numero_coluna):\n",
        "        if 1 <= numero_linha <= len(self.conteudo) and 0 <= numero_coluna < len(self.colunas):\n",
        "            linha = self.conteudo[numero_linha - 1].strip().split(',')\n",
        "            return linha[numero_coluna]\n",
        "        else:\n",
        "            return \"Número de linha ou coluna inválido.\""
      ],
      "metadata": {
        "id": "Olfc1PC5BabU"
      },
      "execution_count": 35,
      "outputs": []
    },
    {
      "cell_type": "code",
      "source": [
        "# Vamos testar a classe ArquivoCSV com a correção adequada\n",
        "try:\n",
        "    arquivo_csv = ArquivoCSV(nome_arquivo='carros.csv')\n",
        "    numero_linha = 1  # Definindo a variável numero_linha\n",
        "    print(arquivo_csv.extrair_linha(numero_linha))\n",
        "    print(arquivo_csv.colunas)\n",
        "\n",
        "    numero_linha = 10\n",
        "    print(arquivo_csv.extrair_linha(numero_linha))\n",
        "\n",
        "    numero_linha = 10\n",
        "    numero_coluna = 2\n",
        "    print(arquivo_csv.extrair_coluna_da_linha(numero_linha=numero_linha, numero_coluna=numero_coluna))\n",
        "except FileNotFoundError as e:\n",
        "    print(e)"
      ],
      "metadata": {
        "colab": {
          "base_uri": "https://localhost:8080/"
        },
        "id": "qFDBc51iGPT2",
        "outputId": "f6d20dff-4107-4ebf-cace-30489a36477e"
      },
      "execution_count": 37,
      "outputs": [
        {
          "output_type": "stream",
          "name": "stdout",
          "text": [
            "id,valor_venda,valor_manutencao,portas,pessoas,porta_malas\n",
            "['id', 'valor_venda', 'valor_manutencao', 'portas', 'pessoas', 'porta_malas']\n",
            "9,low,med,2,2,small\n",
            "med\n"
          ]
        }
      ]
    }
  ]
}