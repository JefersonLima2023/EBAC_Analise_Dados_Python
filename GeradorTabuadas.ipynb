{
  "nbformat": 4,
  "nbformat_minor": 0,
  "metadata": {
    "colab": {
      "provenance": [],
      "authorship_tag": "ABX9TyPa/cmYHb/L+Brh1EYoPlvk",
      "include_colab_link": true
    },
    "kernelspec": {
      "name": "python3",
      "display_name": "Python 3"
    },
    "language_info": {
      "name": "python"
    }
  },
  "cells": [
    {
      "cell_type": "markdown",
      "metadata": {
        "id": "view-in-github",
        "colab_type": "text"
      },
      "source": [
        "<a href=\"https://colab.research.google.com/github/JefersonLima2023/EBAC_Analise_Dados_Python/blob/main/GeradorTabuadas.ipynb\" target=\"_parent\"><img src=\"https://colab.research.google.com/assets/colab-badge.svg\" alt=\"Open In Colab\"/></a>"
      ]
    },
    {
      "cell_type": "code",
      "execution_count": 3,
      "metadata": {
        "colab": {
          "base_uri": "https://localhost:8080/"
        },
        "id": "99caCximLwKd",
        "outputId": "ef4d6179-cf5f-4916-9bb1-5c27b2d230f9"
      },
      "outputs": [
        {
          "output_type": "stream",
          "name": "stdout",
          "text": [
            "Digite o número para ver a tabuada (1 a 10): 6\n",
            "6 x 1 = 6\n",
            "6 x 2 = 12\n",
            "6 x 3 = 18\n",
            "6 x 4 = 24\n",
            "6 x 5 = 30\n",
            "6 x 6 = 36\n",
            "6 x 7 = 42\n",
            "6 x 8 = 48\n",
            "6 x 9 = 54\n",
            "6 x 10 = 60\n"
          ]
        }
      ],
      "source": [
        "def gerador_tabuada(numero):\n",
        "    if 1 <= numero <= 10:\n",
        "        for i in range(1, 11):\n",
        "            print(f\"{numero} x {i} = {numero * i}\")\n",
        "    else:\n",
        "        print(\"Por favor, insira um número entre 1 e 10.\")\n",
        "\n",
        "if __name__ == \"__main__\":\n",
        "    try:\n",
        "        numero_desejado = int(input(\"Digite o número para ver a tabuada (1 a 10): \"))\n",
        "        gerador_tabuada(numero_desejado)\n",
        "    except ValueError:\n",
        "        print(\"Por favor, insira um número inteiro válido.\")"
      ]
    }
  ]
}