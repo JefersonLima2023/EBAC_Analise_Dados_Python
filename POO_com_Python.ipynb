{
  "nbformat": 4,
  "nbformat_minor": 0,
  "metadata": {
    "colab": {
      "provenance": [],
      "authorship_tag": "ABX9TyPrEzH8cy6YCAtxfM26s/3u",
      "include_colab_link": true
    },
    "kernelspec": {
      "name": "python3",
      "display_name": "Python 3"
    },
    "language_info": {
      "name": "python"
    }
  },
  "cells": [
    {
      "cell_type": "markdown",
      "metadata": {
        "id": "view-in-github",
        "colab_type": "text"
      },
      "source": [
        "<a href=\"https://colab.research.google.com/github/JefersonLima2023/EBAC_Analise_Dados_Python/blob/main/POO_com_Python.ipynb\" target=\"_parent\"><img src=\"https://colab.research.google.com/assets/colab-badge.svg\" alt=\"Open In Colab\"/></a>"
      ]
    },
    {
      "cell_type": "markdown",
      "source": [
        "# Python com POO\n",
        "## Criando classes, atributos e métodos"
      ],
      "metadata": {
        "id": "IEO0bvSydszI"
      }
    },
    {
      "cell_type": "code",
      "execution_count": 4,
      "metadata": {
        "id": "POUjC0Ordr_p"
      },
      "outputs": [],
      "source": [
        "class Pessoa(object):\n",
        "  def __init__(self):\n",
        "    pass"
      ]
    },
    {
      "cell_type": "markdown",
      "source": [
        "## Colocando atributos na classe Pessoa."
      ],
      "metadata": {
        "id": "6hse4WzVej4Z"
      }
    },
    {
      "cell_type": "code",
      "source": [
        "class Pessoa(object):\n",
        "\n",
        "  def __init__(self, nome: str, idade: int, documento: str):\n",
        "    self.nome = nome\n",
        "    self.idade = idade\n",
        "    self.documento = documento"
      ],
      "metadata": {
        "id": "GNOYcZr4ebaQ"
      },
      "execution_count": 5,
      "outputs": []
    },
    {
      "cell_type": "markdown",
      "source": [
        "## Criando métodos (Representam as ações das classes)"
      ],
      "metadata": {
        "id": "r4OdJWBCfa6n"
      }
    },
    {
      "cell_type": "code",
      "source": [
        "from time import sleep\n",
        "\n",
        "class Pessoa(object):\n",
        "\n",
        "  def __init__(self, nome: str, idade: int, documento: str = None):\n",
        "    self.nome = nome\n",
        "    self.idade = idade\n",
        "    self.documento = documento\n",
        "\n",
        "  def dormir(self, horas: int) -> None:\n",
        "    for hora in range(1, horas + 1):\n",
        "      print(f'Dormindo por {hora} horas')\n",
        "      sleep(1)\n",
        "\n",
        "  def falar(self, texto: str) -> None:\n",
        "    print(texto)\n",
        "\n",
        "  def __str__(self) -> str:\n",
        "    return f'{self.nome}, {self.idade} anos e documento número {self.documento}'"
      ],
      "metadata": {
        "id": "5sWroISlei7Q"
      },
      "execution_count": 17,
      "outputs": []
    },
    {
      "cell_type": "code",
      "source": [
        "andre = Pessoa(nome = 'Andre Perez', idade=30, documento='123')\n",
        "maria = Pessoa(nome = 'Maria Perez', idade=30, documento='456')\n",
        "pedro = Pessoa(nome = 'Pedro Perez', idade=30)"
      ],
      "metadata": {
        "id": "OannfsGEiyOz"
      },
      "execution_count": 18,
      "outputs": []
    },
    {
      "cell_type": "code",
      "source": [
        "def maior_de_idade(idade: int) -> bool:\n",
        "  return idade >= 18\n",
        "\n",
        "if maior_de_idade(idade = andre.idade):\n",
        "  print(f'{andre.nome} é maior de idade')"
      ],
      "metadata": {
        "colab": {
          "base_uri": "https://localhost:8080/"
        },
        "id": "bIi3hfb6jMHy",
        "outputId": "b9ff0a19-296d-46f8-9c2c-109b0992d844"
      },
      "execution_count": 19,
      "outputs": [
        {
          "output_type": "stream",
          "name": "stdout",
          "text": [
            "Andre Perez é maior de idade\n"
          ]
        }
      ]
    },
    {
      "cell_type": "markdown",
      "source": [
        "## Criando Métodos"
      ],
      "metadata": {
        "id": "yXUgdA0lkmqz"
      }
    },
    {
      "cell_type": "code",
      "source": [
        "andre.dormir(horas=4)"
      ],
      "metadata": {
        "colab": {
          "base_uri": "https://localhost:8080/"
        },
        "id": "A6Z3Suzsj1BG",
        "outputId": "a97d2d86-4933-4327-9357-b1af106eaa20"
      },
      "execution_count": 21,
      "outputs": [
        {
          "output_type": "stream",
          "name": "stdout",
          "text": [
            "Dormindo por 1 horas\n",
            "Dormindo por 2 horas\n",
            "Dormindo por 3 horas\n",
            "Dormindo por 4 horas\n"
          ]
        }
      ]
    },
    {
      "cell_type": "code",
      "source": [
        "andre.falar(texto='Olá pessoal!')"
      ],
      "metadata": {
        "colab": {
          "base_uri": "https://localhost:8080/"
        },
        "id": "h5aCQxIyj01p",
        "outputId": "2dcbcc28-832c-43e7-9e27-fc4c56f933e8"
      },
      "execution_count": 22,
      "outputs": [
        {
          "output_type": "stream",
          "name": "stdout",
          "text": [
            "Olá pessoal!\n"
          ]
        }
      ]
    },
    {
      "cell_type": "code",
      "source": [
        "print(andre)"
      ],
      "metadata": {
        "colab": {
          "base_uri": "https://localhost:8080/"
        },
        "id": "IO579inSj0iq",
        "outputId": "9b583cce-2271-48eb-f8ba-bad7c7833088"
      },
      "execution_count": 23,
      "outputs": [
        {
          "output_type": "stream",
          "name": "stdout",
          "text": [
            "Andre Perez, 30 anos e documento número 123\n"
          ]
        }
      ]
    },
    {
      "cell_type": "markdown",
      "source": [
        "## Exemplo de uma classe para abertura de um arquivo"
      ],
      "metadata": {
        "id": "uiBy9YjenZxa"
      }
    },
    {
      "cell_type": "code",
      "source": [
        "class ArquivoCSV(object):\n",
        "\n",
        "  def __init__(self, arquivo: str):\n",
        "    self.arquivo = arquivo\n",
        "    self.conteudo = self._extrair_conteudo()\n",
        "    self.colunas = self._extrair_nome_colunas()\n",
        "\n",
        "  def _extrair_conteudo(self):\n",
        "    conteudo = None\n",
        "    with open(file=self.arquivo, mode='r', encoding='utf8') as arquivo:\n",
        "      conteudo = arquivo.readlines()\n",
        "      return conteudo\n",
        "\n",
        "  def _extrair_nome_colunas(self):\n",
        "    return self.conteudo[0].strip().split(sep=',')\n",
        "\n",
        "  def extrair_coluna(self, indice_coluna: str):\n",
        "    coluna = list()\n",
        "    for linha in self.conteudo:\n",
        "      conteudo_linha = linha.strip().split(sep=',')\n",
        "      coluna.append(conteudo_linha[indice_coluna])\n",
        "    coluna.pop(8)\n",
        "    return coluna"
      ],
      "metadata": {
        "id": "ySppb0-om8XP"
      },
      "execution_count": 24,
      "outputs": []
    },
    {
      "cell_type": "code",
      "source": [
        "%%writefile banco.csv\n",
        "age,job,marital,education,default,balance,housing,loan\n",
        "30,unemployed,married,primary,no,1787,no,no\n",
        "33,services,married,secondary,no,4789,yes,yes\n",
        "35,management,single,tertiary,no,1350,yes,no\n",
        "30,management,married,tertiary,no,1476,yes,yes\n",
        "59,blue-collar,married,secondary,no,0,yes,no\n",
        "35,management,single,tertiary,no,747,no,no\n",
        "36,self-employed,married,tertiary,no,307,yes,no\n",
        "39,technician,married,secondary,no,147,yes,no\n",
        "41,entrepreneur,married,tertiary,no,221,yes,no\n",
        "43,services,married,primary,no,-88,yes,yes"
      ],
      "metadata": {
        "colab": {
          "base_uri": "https://localhost:8080/"
        },
        "id": "CDLOVR4npVMw",
        "outputId": "be26c1ed-e5d3-42ee-c36d-8b88b4b91298"
      },
      "execution_count": 25,
      "outputs": [
        {
          "output_type": "stream",
          "name": "stdout",
          "text": [
            "Writing banco.csv\n"
          ]
        }
      ]
    },
    {
      "cell_type": "code",
      "source": [
        "arquivo_banco= ArquivoCSV(arquivo='./banco.csv')"
      ],
      "metadata": {
        "id": "9-5aqj5xp0Bv"
      },
      "execution_count": 26,
      "outputs": []
    },
    {
      "cell_type": "code",
      "source": [
        "print(arquivo_banco.colunas)"
      ],
      "metadata": {
        "colab": {
          "base_uri": "https://localhost:8080/"
        },
        "id": "dFLI6oPjpzwF",
        "outputId": "7455e29d-bbc4-416e-fab9-5a490f7a329d"
      },
      "execution_count": 27,
      "outputs": [
        {
          "output_type": "stream",
          "name": "stdout",
          "text": [
            "['age', 'job', 'marital', 'education', 'default', 'balance', 'housing', 'loan']\n"
          ]
        }
      ]
    },
    {
      "cell_type": "code",
      "source": [
        "job = arquivo_banco.extrair_coluna(indice_coluna=1)\n",
        "print(job)"
      ],
      "metadata": {
        "colab": {
          "base_uri": "https://localhost:8080/"
        },
        "id": "qg4hXxAsqFBF",
        "outputId": "6f55d343-d209-48e4-e7e1-bfdd572aeefe"
      },
      "execution_count": 28,
      "outputs": [
        {
          "output_type": "stream",
          "name": "stdout",
          "text": [
            "['job', 'unemployed', 'services', 'management', 'management', 'blue-collar', 'management', 'self-employed', 'entrepreneur', 'services']\n"
          ]
        }
      ]
    },
    {
      "cell_type": "code",
      "source": [
        "education = arquivo_banco.extrair_coluna(indice_coluna=3)\n",
        "print(education)"
      ],
      "metadata": {
        "colab": {
          "base_uri": "https://localhost:8080/"
        },
        "id": "wFFVaAg2qE5O",
        "outputId": "6616d718-63b0-4c28-bd24-47867acb9f82"
      },
      "execution_count": 29,
      "outputs": [
        {
          "output_type": "stream",
          "name": "stdout",
          "text": [
            "['education', 'primary', 'secondary', 'tertiary', 'tertiary', 'secondary', 'tertiary', 'tertiary', 'tertiary', 'primary']\n"
          ]
        }
      ]
    }
  ]
}