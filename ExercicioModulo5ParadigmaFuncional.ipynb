{
  "nbformat": 4,
  "nbformat_minor": 0,
  "metadata": {
    "colab": {
      "provenance": [],
      "toc_visible": true,
      "authorship_tag": "ABX9TyMPT9A51aqB9d+A3h9OdMAq",
      "include_colab_link": true
    },
    "kernelspec": {
      "name": "python3",
      "display_name": "Python 3"
    },
    "language_info": {
      "name": "python"
    }
  },
  "cells": [
    {
      "cell_type": "markdown",
      "metadata": {
        "id": "view-in-github",
        "colab_type": "text"
      },
      "source": [
        "<a href=\"https://colab.research.google.com/github/JefersonLima2023/EBAC_Analise_Dados_Python/blob/main/ExercicioModulo5ParadigmaFuncional.ipynb\" target=\"_parent\"><img src=\"https://colab.research.google.com/assets/colab-badge.svg\" alt=\"Open In Colab\"/></a>"
      ]
    },
    {
      "cell_type": "markdown",
      "source": [
        "# Questionário Módulo 5\n",
        "\n",
        "## Neste exercício vamos trabalhar com o arquivo csv com dados de crédito, definido abaixo.\n",
        "\n",
        "## Execute cada uma das células de código para escrever os arquivos em sua máquina virtual:"
      ],
      "metadata": {
        "id": "sAjMeBgAsl-8"
      }
    },
    {
      "cell_type": "code",
      "execution_count": 51,
      "metadata": {
        "colab": {
          "base_uri": "https://localhost:8080/"
        },
        "id": "6ZYyFIofslIN",
        "outputId": "18bb9e82-ada2-446d-a7d1-e08025697385"
      },
      "outputs": [
        {
          "output_type": "stream",
          "name": "stdout",
          "text": [
            "Overwriting credito.csv\n"
          ]
        }
      ],
      "source": [
        "%%writefile credito.csv\n",
        "id_vendedor,valor_emprestimos,quantidade_emprestimos,data\n",
        "104271,448.0,1,20161208\n",
        "21476,826.7,3,20161208\n",
        "87440,313.6,3,20161208\n",
        "15980,-8008.0,6,20161208\n",
        "215906,2212.0,5,20161208\n",
        "33696,2771.3,2,20161208\n",
        "33893,2240.0,3,20161208\n",
        "214946,-4151.0,18,20161208\n",
        "123974,2021.95,2,20161208\n",
        "225870,4039.0,2,20161208"
      ]
    },
    {
      "cell_type": "markdown",
      "source": [
        "## Vamos ler o conteúdo do arquivo em uma lista onde cada elemento é um dicionário representando as linhas do arquivo.\n"
      ],
      "metadata": {
        "id": "re1OQN3ttVG5"
      }
    },
    {
      "cell_type": "code",
      "source": [
        "# O nome original da lista, empresários, não faz sentido no contexto.\n",
        "# Alterei para emprestimos, julguei mais apropriado.\n",
        "\n",
        "emprestimos = []\n",
        "\n",
        "with open(file='./credito.csv', mode='r', encoding='utf8') as fp:\n",
        "    fp.readline()  # Pula o cabeçalho\n",
        "    linha = fp.readline()\n",
        "\n",
        "    while linha:\n",
        "        linha_emprestimo = {}\n",
        "        linha_elementos = linha.strip().split(',')\n",
        "        linha_emprestimo['id_vendedor'] = linha_elementos[0]\n",
        "        linha_emprestimo['valor_emprestimos'] = linha_elementos[1]\n",
        "        linha_emprestimo['quantidade_emprestimos'] = linha_elementos[2]\n",
        "        linha_emprestimo['data'] = linha_elementos[3]\n",
        "        emprestimos.append(linha_emprestimo)\n",
        "        linha = fp.readline()\n",
        "\n",
        "for emprestimo in emprestimos:\n",
        "    print(emprestimo)"
      ],
      "metadata": {
        "colab": {
          "base_uri": "https://localhost:8080/"
        },
        "id": "JX5Jqe_4tOdn",
        "outputId": "6a378821-2cec-4e3a-be9a-23592b5b137c"
      },
      "execution_count": 52,
      "outputs": [
        {
          "output_type": "stream",
          "name": "stdout",
          "text": [
            "{'id_vendedor': '104271', 'valor_emprestimos': '448.0', 'quantidade_emprestimos': '1', 'data': '20161208'}\n",
            "{'id_vendedor': '21476', 'valor_emprestimos': '826.7', 'quantidade_emprestimos': '3', 'data': '20161208'}\n",
            "{'id_vendedor': '87440', 'valor_emprestimos': '313.6', 'quantidade_emprestimos': '3', 'data': '20161208'}\n",
            "{'id_vendedor': '15980', 'valor_emprestimos': '-8008.0', 'quantidade_emprestimos': '6', 'data': '20161208'}\n",
            "{'id_vendedor': '215906', 'valor_emprestimos': '2212.0', 'quantidade_emprestimos': '5', 'data': '20161208'}\n",
            "{'id_vendedor': '33696', 'valor_emprestimos': '2771.3', 'quantidade_emprestimos': '2', 'data': '20161208'}\n",
            "{'id_vendedor': '33893', 'valor_emprestimos': '2240.0', 'quantidade_emprestimos': '3', 'data': '20161208'}\n",
            "{'id_vendedor': '214946', 'valor_emprestimos': '-4151.0', 'quantidade_emprestimos': '18', 'data': '20161208'}\n",
            "{'id_vendedor': '123974', 'valor_emprestimos': '2021.95', 'quantidade_emprestimos': '2', 'data': '20161208'}\n",
            "{'id_vendedor': '225870', 'valor_emprestimos': '4039.0', 'quantidade_emprestimos': '2', 'data': '20161208'}\n"
          ]
        }
      ]
    },
    {
      "cell_type": "markdown",
      "source": [
        "# Originalmente o arquivo credito.csv estava com \"pontos\" (.) e vírgulas invertidos, o que gerou o erro de índice em algumas linhas. Após correção, o código rodou normalmente."
      ],
      "metadata": {
        "id": "Dhqhzpr5tN3i"
      }
    },
    {
      "cell_type": "markdown",
      "source": [
        "# Exercício 1: Mapa de funções"
      ],
      "metadata": {
        "id": "--4uHheKDkIP"
      }
    },
    {
      "cell_type": "code",
      "source": [
        "valor_emprestimos_lista = list(map(lambda x: float(x['valor_emprestimos']), emprestimos))\n",
        "print(valor_emprestimos_lista)"
      ],
      "metadata": {
        "colab": {
          "base_uri": "https://localhost:8080/"
        },
        "id": "3EyF5VgNDdDB",
        "outputId": "c348dc13-e0b9-46d7-cbea-ce134d67baa7"
      },
      "execution_count": 53,
      "outputs": [
        {
          "output_type": "stream",
          "name": "stdout",
          "text": [
            "[448.0, 826.7, 313.6, -8008.0, 2212.0, 2771.3, 2240.0, -4151.0, 2021.95, 4039.0]\n"
          ]
        }
      ]
    },
    {
      "cell_type": "markdown",
      "source": [
        "# Exercício 2: Função filtro"
      ],
      "metadata": {
        "id": "9zu6XzD4EOaJ"
      }
    },
    {
      "cell_type": "code",
      "source": [
        "valor_emprestimos_lista_filtrada = list(filter(lambda x: x > 0, valor_emprestimos_lista))\n",
        "print(valor_emprestimos_lista_filtrada)"
      ],
      "metadata": {
        "colab": {
          "base_uri": "https://localhost:8080/"
        },
        "id": "Qd5a-iCeEQ5r",
        "outputId": "4c632de6-4c82-4272-cdac-eaf80154723e"
      },
      "execution_count": 54,
      "outputs": [
        {
          "output_type": "stream",
          "name": "stdout",
          "text": [
            "[448.0, 826.7, 313.6, 2212.0, 2771.3, 2240.0, 2021.95, 4039.0]\n"
          ]
        }
      ]
    },
    {
      "cell_type": "markdown",
      "source": [
        "Com a nossa lista de valores de empréstimo pronto, vamos extrair algumas informações:"
      ],
      "metadata": {
        "id": "YQWRTGhWE-6V"
      }
    },
    {
      "cell_type": "markdown",
      "source": [
        "# Exercício 3: Função reduce\n",
        "## 1ª Parte: Função reduzir para extrair a soma\n",
        "## Aplique a função reduce para somar os elementos da lista valor_emprestimos_lista_filtrada na variável soma_valor_emprestimos. da importação de functools reduzir\n",
        "## soma_valor_emprestimos = ...\n",
        "## print(soma_valor_emprestimos) Resp.: 14872.550000000001"
      ],
      "metadata": {
        "id": "k9BZ6_XRFwMm"
      }
    },
    {
      "cell_type": "code",
      "source": [
        "from functools import reduce\n",
        "\n",
        "# Parte 1: Soma dos elementos\n",
        "soma_valor_emprestimos = reduce(lambda x, y: x + y, valor_emprestimos_lista_filtrada)\n",
        "print(soma_valor_emprestimos)"
      ],
      "metadata": {
        "colab": {
          "base_uri": "https://localhost:8080/"
        },
        "id": "zq0y9qZ9FmdM",
        "outputId": "abea5804-928b-4332-d7cb-f3469ec48a3b"
      },
      "execution_count": 55,
      "outputs": [
        {
          "output_type": "stream",
          "name": "stdout",
          "text": [
            "14872.550000000001\n"
          ]
        }
      ]
    },
    {
      "cell_type": "markdown",
      "source": [
        "## 2ª Parte: Função reduzir para extrair a mídia aritmética\n",
        "## Aplique a função reduzir para extrair a mídia aritmética dos elementos da lista valor_emprestimos_lista_filtrada na variável media_valor_emprestimos."
      ],
      "metadata": {
        "id": "4GVezTzmGqS7"
      }
    },
    {
      "cell_type": "code",
      "source": [
        "from functools import reduce\n",
        "\n",
        "# Parte 2: Média aritmética\n",
        "media_valor_emprestimos = (\n",
        "    reduce(lambda x, y: x + y, valor_emprestimos_lista_filtrada) /\n",
        "    len(valor_emprestimos_lista_filtrada)\n",
        "  )\n",
        "print(media_valor_emprestimos)"
      ],
      "metadata": {
        "colab": {
          "base_uri": "https://localhost:8080/"
        },
        "id": "J0uen_4qGyh7",
        "outputId": "b511a92d-1505-4583-eb3f-daee60d80735"
      },
      "execution_count": 61,
      "outputs": [
        {
          "output_type": "stream",
          "name": "stdout",
          "text": [
            "1859.0687500000001\n"
          ]
        }
      ]
    },
    {
      "cell_type": "markdown",
      "source": [
        "## 3ª Parte: Função reduzir para extrair o desvio padrão amostral Aplique a função reduzir para extrair a mídia aritmética dos elementos da lista valor_emprestimos_lista_filtrada na variável desvio_padrao_valor_emprestimos. da importação de functools reduzir desvio_padrao_valor_emprestimos = ...\n",
        "## print(desvio_padrao_valor_emprestimos)\n",
        "## Resp.: 1271.997271149785"
      ],
      "metadata": {
        "id": "1adUII3pGzBn"
      }
    },
    {
      "cell_type": "code",
      "source": [
        "from functools import reduce\n",
        "from math import sqrt\n",
        "\n",
        "# Primeiro, calculamos a média dos valores na lista\n",
        "media = reduce(lambda x, y: x + y, valor_emprestimos_lista_filtrada) / len(valor_emprestimos_lista_filtrada)\n",
        "\n",
        "# Em seguida, usamos a função reduce para somar os quadrados das diferenças entre cada valor e a média\n",
        "soma_quadrados = reduce(lambda acc, x: acc + (x - media) ** 2, valor_emprestimos_lista_filtrada, 0)\n",
        "\n",
        "# Calculamos o desvio padrão amostral, dividindo a soma dos quadrados pela quantidade de elementos menos um e tirando a raiz quadrada do resultado\n",
        "desvio_padrao_valor_emprestimos = sqrt(soma_quadrados / (len(valor_emprestimos_lista_filtrada) - 1))\n",
        "\n",
        "print(desvio_padrao_valor_emprestimos)"
      ],
      "metadata": {
        "colab": {
          "base_uri": "https://localhost:8080/"
        },
        "id": "Vy9q7Yv3Hvjg",
        "outputId": "403da3cb-6957-4c84-a639-2a34f5b06f67"
      },
      "execution_count": 65,
      "outputs": [
        {
          "output_type": "stream",
          "name": "stdout",
          "text": [
            "1271.9972711497849\n"
          ]
        }
      ]
    }
  ]
}