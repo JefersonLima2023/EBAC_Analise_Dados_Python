{
  "nbformat": 4,
  "nbformat_minor": 0,
  "metadata": {
    "colab": {
      "provenance": [],
      "toc_visible": true,
      "include_colab_link": true
    },
    "kernelspec": {
      "name": "python3",
      "display_name": "Python 3"
    },
    "language_info": {
      "name": "python"
    }
  },
  "cells": [
    {
      "cell_type": "markdown",
      "metadata": {
        "id": "view-in-github",
        "colab_type": "text"
      },
      "source": [
        "<a href=\"https://colab.research.google.com/github/JefersonLima2023/EBAC_Analise_Dados_Python/blob/main/ExerciciosModulo2.ipynb\" target=\"_parent\"><img src=\"https://colab.research.google.com/assets/colab-badge.svg\" alt=\"Open In Colab\"/></a>"
      ]
    },
    {
      "cell_type": "markdown",
      "source": [
        "# MÓDULO 2\n",
        "## 1º Exercício: Listas"
      ],
      "metadata": {
        "id": "-ShxgkswWvXA"
      }
    },
    {
      "cell_type": "markdown",
      "source": [
        "## 1º Exercício: Listas\n",
        "\n",
        "## Esse exercício é composto por duas partes: a criação de uma lista e a criação de um ranking .\n",
        "\n",
        "## Questão 01: Crie uma lista chamada filmes com o nome dos 10 primeiros filmes mais bem avaliados no site no IMDB.\n",
        "## Crie uma lista utilizando a seguinte estrutura: In [ ]: filmes = [...]\n",
        "## Simule a transferência do ranking. Para isso, utilize os métodos insert e pop para trocar a posição do primeiro e do segundo filme da lista.\n",
        "##Imprima o resultado."
      ],
      "metadata": {
        "id": "ZP4mo59KWwrF"
      }
    },
    {
      "cell_type": "code",
      "execution_count": null,
      "metadata": {
        "colab": {
          "base_uri": "https://localhost:8080/"
        },
        "id": "7522iIlfWt-P",
        "outputId": "c0e9374b-72d0-46be-9acb-02559726764d"
      },
      "outputs": [
        {
          "output_type": "stream",
          "name": "stdout",
          "text": [
            "Ranking original: , ['Um Sonho de Liberdade', 'O Poderoso Chefão', 'Batman - O Cavaleiro das Trevas', 'O Poderoso Chefão II', '12 Homens e uma Sentença', 'A Lista de Schindler', 'O Senhor dos Anéis: O Retorno do Rei', 'Pulp Fiction - Tempo de Violência', 'O Senhor dos Anéis: A Sociedade do Anel', 'Três Homens em Conflito']\n",
            "Ranking SIMULADO: , ['Batman - O Cavaleiro das Trevas', 'O Poderoso Chefão II', '12 Homens e uma Sentença', 'Um Sonho de Liberdade', 'A Lista de Schindler', 'O Senhor dos Anéis: O Retorno do Rei', 'Pulp Fiction - Tempo de Violência', 'O Senhor dos Anéis: A Sociedade do Anel', 'Três Homens em Conflito', 'O Poderoso Chefão']\n"
          ]
        }
      ],
      "source": [
        "# Criar a lista com top 10 dos filmes segundo o site IMDb.\n",
        "filmes = ['Um Sonho de Liberdade','O Poderoso Chefão','Batman - O Cavaleiro das Trevas','O Poderoso Chefão II','12 Homens e uma Sentença','A Lista de Schindler','O Senhor dos Anéis: O Retorno do Rei','Pulp Fiction - Tempo de Violência','O Senhor dos Anéis: A Sociedade do Anel','Três Homens em Conflito']\n",
        "print(f'Ranking original: , {filmes}')\n",
        "\n",
        "# Simular Troca de posições do 1º colocado para 5º\n",
        "filmes.pop(0)\n",
        "filmes.insert(4,'Um Sonho de Liberdade')\n",
        "\n",
        "# Simular Troca de posições do 2º colocado para 10º\n",
        "filmes.pop(0)\n",
        "filmes.insert(9,'O Poderoso Chefão')\n",
        "\n",
        "# Imprimir o resultado simulação\n",
        "print(f'Ranking SIMULADO: , {filmes}')\n"
      ]
    },
    {
      "cell_type": "markdown",
      "source": [
        "## 2º Exercício: Conjuntos\n",
        "## Parte 1\n",
        "\n",
        "## Questão 02: Imagine que aconteceu um erro no seu ranking. Simule a duplicação dos três últimos filmes da lista.\n",
        "## Imprima o resultado.\n"
      ],
      "metadata": {
        "id": "2xw37wr2gPxl"
      }
    },
    {
      "cell_type": "code",
      "source": [],
      "metadata": {
        "id": "4Eyr-NpcgPJS"
      },
      "execution_count": null,
      "outputs": []
    },
    {
      "cell_type": "code",
      "source": [
        "# Criar a lista com top 10 dos filmes segundo o site IMDb.\n",
        "filmes = ['Um Sonho de Liberdade','O Poderoso Chefão','Batman - O Cavaleiro das Trevas','O Poderoso Chefão II','12 Homens e uma Sentença','A Lista de Schindler','O Senhor dos Anéis: O Retorno do Rei','Pulp Fiction - Tempo de Violência','O Senhor dos Anéis: A Sociedade do Anel','Três Homens em Conflito']\n",
        "\n",
        "qtde_filmes = len(filmes)\n",
        "\n",
        "print(f'Ranking original: {filmes}')\n",
        "print(f'Quantidade de elementos na lista filmes: {qtde_filmes}')\n",
        "print(f'Tipo da estrutura de dados: {type(filmes)}')\n",
        "\n",
        "# Duplicar os 3 últimos filmes simulando um erro na lista\n",
        "filmes_duplicado = ['Um Sonho de Liberdade','O Poderoso Chefão','Batman - O Cavaleiro das Trevas','O Poderoso Chefão II','12 Homens e uma Sentença','A Lista de Schindler','O Senhor dos Anéis: O Retorno do Rei','Pulp Fiction - Tempo de Violência','Pulp Fiction - Tempo de Violência','O Senhor dos Anéis: A Sociedade do Anel','O Senhor dos Anéis: A Sociedade do Anel','Três Homens em Conflito','Três Homens em Conflito']\n",
        "\n",
        "qtde_filmes_duplicados = len(filmes_duplicado)\n",
        "\n",
        "print(f'Ranking DUPLICADO: {filmes_duplicado}')\n",
        "print(f'Quantidade de elementos na lista filmes_duplicados: {qtde_filmes_duplicados}')\n",
        "print(f'Tipo da estrutura de dados: {type(filmes_duplicado)}')\n"
      ],
      "metadata": {
        "colab": {
          "base_uri": "https://localhost:8080/"
        },
        "id": "EdHdBzeclugr",
        "outputId": "ccf319d1-b6cb-4c42-8a17-b81f635db184"
      },
      "execution_count": null,
      "outputs": [
        {
          "output_type": "stream",
          "name": "stdout",
          "text": [
            "Ranking original: ['Um Sonho de Liberdade', 'O Poderoso Chefão', 'Batman - O Cavaleiro das Trevas', 'O Poderoso Chefão II', '12 Homens e uma Sentença', 'A Lista de Schindler', 'O Senhor dos Anéis: O Retorno do Rei', 'Pulp Fiction - Tempo de Violência', 'O Senhor dos Anéis: A Sociedade do Anel', 'Três Homens em Conflito']\n",
            "Quantidade de elementos na lista filmes: 10\n",
            "Tipo da estrutura de dados: <class 'list'>\n",
            "Ranking DUPLICADO: ['Um Sonho de Liberdade', 'O Poderoso Chefão', 'Batman - O Cavaleiro das Trevas', 'O Poderoso Chefão II', '12 Homens e uma Sentença', 'A Lista de Schindler', 'O Senhor dos Anéis: O Retorno do Rei', 'Pulp Fiction - Tempo de Violência', 'Pulp Fiction - Tempo de Violência', 'O Senhor dos Anéis: A Sociedade do Anel', 'O Senhor dos Anéis: A Sociedade do Anel', 'Três Homens em Conflito', 'Três Homens em Conflito']\n",
            "Quantidade de elementos na lista filmes_duplicados: 13\n",
            "Tipo da estrutura de dados: <class 'list'>\n"
          ]
        }
      ]
    },
    {
      "cell_type": "markdown",
      "source": [
        "## Parte 2\n",
        "\n",
        "## Questão 01: Utilize um conjunto e lista de conversão para remover os valores duplicados.\n",
        "## Imprima o resultado."
      ],
      "metadata": {
        "id": "xz0yqUbufGzg"
      }
    },
    {
      "cell_type": "code",
      "source": [
        "# Corrigir a lista com filmes duplicados convertendo para conjunto\n",
        "filmes_duplicado_corrigido = list(set(['Um Sonho de Liberdade','O Poderoso Chefão','Batman - O Cavaleiro das Trevas','O Poderoso Chefão II','12 Homens e uma Sentença','A Lista de Schindler','O Senhor dos Anéis: O Retorno do Rei','Pulp Fiction - Tempo de Violência','Pulp Fiction - Tempo de Violência','O Senhor dos Anéis: A Sociedade do Anel','O Senhor dos Anéis: A Sociedade do Anel','Três Homens em Conflito','Três Homens em Conflito']))\n",
        "\n",
        "qtde_filmes_duplicados_corrigido = len(filmes_duplicado_corrigido)\n",
        "\n",
        "print(f'Ranking CORRIGIDO: {filmes_duplicado_corrigido}')\n",
        "print(f'Quantidade de elementos na lista filmes_duplicado_corrigido: {qtde_filmes_duplicados_corrigido}')\n",
        "print(f'Tipo da estrutura de dados: {type(filmes_duplicado_corrigido)}')"
      ],
      "metadata": {
        "colab": {
          "base_uri": "https://localhost:8080/"
        },
        "id": "2IfwNr66fGDY",
        "outputId": "c0006dc2-90bb-4c2a-c2ed-d67d25d7da2a"
      },
      "execution_count": null,
      "outputs": [
        {
          "output_type": "stream",
          "name": "stdout",
          "text": [
            "Ranking CORRIGIDO: ['O Senhor dos Anéis: O Retorno do Rei', 'A Lista de Schindler', 'Três Homens em Conflito', 'Batman - O Cavaleiro das Trevas', 'O Poderoso Chefão II', 'O Poderoso Chefão', 'O Senhor dos Anéis: A Sociedade do Anel', 'Um Sonho de Liberdade', '12 Homens e uma Sentença', 'Pulp Fiction - Tempo de Violência']\n",
            "Quantidade de elementos na lista filmes_duplicado_corrigido: 10\n",
            "Tipo da estrutura de dados: <class 'list'>\n"
          ]
        }
      ]
    },
    {
      "cell_type": "markdown",
      "source": [
        "## 3º Exercício: Dicionários\n",
        "\n",
        "## Questão 01: Neste momento, repita o passo a passo de criação da lista feita anteriormente: uma lista chamada filmes com o nome dos 10 primeiros filmes mais bem avaliados no site no IMDB.\n",
        "## Adicione mais informações a essa estrutura de dados com o ano e a sinopse de cada filme.\n",
        "## Os elementos da lista de filmes devem ser dicionários no seguinte formato:\n",
        "## {'nome': 'nome-do-filme', 'ano': 'ano do filme'}, 'sinopse': 'sinopse do filme'}"
      ],
      "metadata": {
        "id": "Gjoo5VmFfFO6"
      }
    },
    {
      "cell_type": "code",
      "source": [
        "# Criar o hanking top 10 IMDb em estrutura de DICIONARIO.\n",
        "# Há uma LISTA dentro do dicionário para atribuir os atores principais de cada filme.\n",
        "\n",
        "filmes = {\n",
        "    'posicao_um': {\n",
        "        'titulo': 'Um Sonho de Liberdade',\n",
        "        'ano': 1994,\n",
        "        'sinopse': 'Dois homens presos se reúnem ao longo de vários anos, encontrando consolo e eventual redenção através de atos de decência comum.',\n",
        "        'diretor': 'Frank Darabont',\n",
        "        'atores': ['Tim Robbins', 'Morgan Freeman', 'Bob Gunton']\n",
        "         },\n",
        "    'posicao_dois':{\n",
        "        'titulo': 'O poderoso Chefão',\n",
        "        'ano': 1972,\n",
        "        'sinopse': 'O patriarca idoso de uma dinastia do crime organizado transfere o controle de seu império clandestino para seu filho relutante.',\n",
        "        'diretor': 'Francis Ford Coppola',\n",
        "        'atores': ['Marlon Brando', 'Al Pacino','James Caan']\n",
        "         },\n",
        "    'posicao_tres':{\n",
        "        'titulo': 'Batman - O Cavaleiro das Trevas',\n",
        "        'ano': 2008,\n",
        "        'sinopse': 'Agora com a ajuda do tenente Jim Gordon e do promotor público Harvey Dent, Batman tem tudo para banir o crime de Gotham City de uma vez por todas. Mas em breve, os três serão vítimas do Coringa, que pretende lançar Gotham em uma anarquia.',\n",
        "        'diretor': 'Christopher Nolan',\n",
        "        'atores': ['Christian Bale','Heath Ledger','Aaron Eckhart']\n",
        "         },\n",
        "    'posicao_quatro':{\n",
        "        'titulo': 'O Poderoso Chefão II',\n",
        "        'ano': 1974,\n",
        "        'sinopse': 'Em 1950, Michael Corleone, agora à frente da família, tenta expandir o negócio do crime a Las Vegas, Los Angeles e Cuba. Paralelamente, é revelada a história de Vito Corleone, e de como saiu da Sicília e chegou a Nova Iorque.',\n",
        "        'diretor': 'Francis Ford Coppola',\n",
        "        'atores': ['Al Pacino', 'Robert De Niro', 'Robert Duvall']\n",
        "         },\n",
        "    'posicao_cinco':{\n",
        "        'titulo': '12 Homens e uma Sentença',\n",
        "        'ano': 1957,\n",
        "        'sinopse': 'O julgamento de um assassinato em Nova Iorque é frustrado por um único membro, cujo ceticismo força o júri a considerar cuidadosamente as evidências antes de dar o veredito.',\n",
        "        'diretor': 'Sidney Lumet',\n",
        "        'atores': ['Henry Fonda', 'Lee J. Cobb', 'Martin Balsam']\n",
        "         },\n",
        "    'posicao_seis':{\n",
        "        'titulo': 'A Lista de Schindler',\n",
        "        'ano': 1993,\n",
        "        'sinopse': 'Na Polônia ocupada pelos alemães durante a Segunda Guerra Mundial, o industrial Oskar Schindler começa a ser preocupar com seus trabalhadores judeus depois de testemunhar sua perseguição pelos nazistas.',\n",
        "        'diretor': 'Steven Spielberg',\n",
        "        'atores': ['Liam Neeson', 'Ralph Fiennes','Ben Kingsley']\n",
        "         },\n",
        "    'posicao_sete':{\n",
        "        'titulo': 'O Senhor dos Anéis: O Retorno do Rei',\n",
        "        'ano': 2003,\n",
        "        'sinopse': 'Gandalf e Aragorn lideram o Mundo dos Homens contra o exército de Sauron para desviar o olhar de Frodo e Sam quando eles se aproximam á Montanha da Perdição com o Um Anel.',\n",
        "        'diretor': 'Peter Jackson',\n",
        "        'atores': ['Elijah Wood', 'Viggo Mortensen', 'Ian McKellen']\n",
        "         },\n",
        "    'posicao_oito':{\n",
        "        'titulo': 'Pulp Fiction - Tempo de Violência',\n",
        "        'ano': 1994,\n",
        "        'sinopse': 'As vidas de dois assassinos da máfia, um boxeador, um gângster e sua esposa, e um par de bandidos se entrelaçam em quatro histórias de violência e redenção.',\n",
        "        'diretor': 'Quentin Tarantino',\n",
        "        'atores': ['John Travolta', 'Uma Thurman','Samuel L. Jackson']\n",
        "         },\n",
        "    'posicao_nove':{\n",
        "        'titulo': 'O Senhor dos Anéis: A Sociedade do Anel',\n",
        "        'ano': 2001,\n",
        "        'sinopse': 'Um manso hobbit do Condado e oito companheiros partem em uma jornada para destruir o poderoso Um Anel e salvar a Terra-média das Trevas.',\n",
        "        'diretor': 'Peter Jackson',\n",
        "        'atores': ['Elijah Wood', 'Ian McKellen', 'Orlando Bloom']\n",
        "         },\n",
        "    'posicao_dez':{\n",
        "        'titulo': ' Três Homens em Conflito',\n",
        "        'ano': 1966,\n",
        "        'sinopse': 'Um impostor se junta com dois homens para encontrar fortuna num remoto cemitério.',\n",
        "        'diretor': 'Sergio Leone',\n",
        "        'atores': ['Clint Eastwood','Eli Wallach','Lee Van Cleef']\n",
        "         },\n",
        "}\n",
        "\n",
        "# Laço de repetição para percorrer o dicionário e imprimir na tela o conteúdo.\n",
        "\n",
        "for k, v in filmes.items():\n",
        "  print(f'A {k} é: {v}')\n"
      ],
      "metadata": {
        "colab": {
          "base_uri": "https://localhost:8080/"
        },
        "id": "jRfdlvOivYin",
        "outputId": "c0c1fd43-01f6-48ad-a83d-4100352653a2"
      },
      "execution_count": null,
      "outputs": [
        {
          "output_type": "stream",
          "name": "stdout",
          "text": [
            "A posicao_um é: {'titulo': 'Um Sonho de Liberdade', 'ano': 1994, 'sinopse': 'Dois homens presos se reúnem ao longo de vários anos, encontrando consolo e eventual redenção através de atos de decência comum.', 'diretor': 'Frank Darabont', 'atores': ['Tim Robbins', 'Morgan Freeman', 'Bob Gunton']}\n",
            "A posicao_dois é: {'titulo': 'O poderoso Chefão', 'ano': 1972, 'sinopse': 'O patriarca idoso de uma dinastia do crime organizado transfere o controle de seu império clandestino para seu filho relutante.', 'diretor': 'Francis Ford Coppola', 'atores': ['Marlon Brando', 'Al Pacino', 'James Caan']}\n",
            "A posicao_tres é: {'titulo': 'Batman - O Cavaleiro das Trevas', 'ano': 2008, 'sinopse': 'Agora com a ajuda do tenente Jim Gordon e do promotor público Harvey Dent, Batman tem tudo para banir o crime de Gotham City de uma vez por todas. Mas em breve, os três serão vítimas do Coringa, que pretende lançar Gotham em uma anarquia.', 'diretor': 'Christopher Nolan', 'atores': ['Christian Bale', 'Heath Ledger', 'Aaron Eckhart']}\n",
            "A posicao_quatro é: {'titulo': 'O Poderoso Chefão II', 'ano': 1974, 'sinopse': 'Em 1950, Michael Corleone, agora à frente da família, tenta expandir o negócio do crime a Las Vegas, Los Angeles e Cuba. Paralelamente, é revelada a história de Vito Corleone, e de como saiu da Sicília e chegou a Nova Iorque.', 'diretor': 'Francis Ford Coppola', 'atores': ['Al Pacino', 'Robert De Niro', 'Robert Duvall']}\n",
            "A posicao_cinco é: {'titulo': '12 Homens e uma Sentença', 'ano': 1957, 'sinopse': 'O julgamento de um assassinato em Nova Iorque é frustrado por um único membro, cujo ceticismo força o júri a considerar cuidadosamente as evidências antes de dar o veredito.', 'diretor': 'Sidney Lumet', 'atores': ['Henry Fonda', 'Lee J. Cobb', 'Martin Balsam']}\n",
            "A posicao_seis é: {'titulo': 'A Lista de Schindler', 'ano': 1993, 'sinopse': 'Na Polônia ocupada pelos alemães durante a Segunda Guerra Mundial, o industrial Oskar Schindler começa a ser preocupar com seus trabalhadores judeus depois de testemunhar sua perseguição pelos nazistas.', 'diretor': 'Steven Spielberg', 'atores': ['Liam Neeson', 'Ralph Fiennes', 'Ben Kingsley']}\n",
            "A posicao_sete é: {'titulo': 'O Senhor dos Anéis: O Retorno do Rei', 'ano': 2003, 'sinopse': 'Gandalf e Aragorn lideram o Mundo dos Homens contra o exército de Sauron para desviar o olhar de Frodo e Sam quando eles se aproximam á Montanha da Perdição com o Um Anel.', 'diretor': 'Peter Jackson', 'atores': ['Elijah Wood', 'Viggo Mortensen', 'Ian McKellen']}\n",
            "A posicao_oito é: {'titulo': 'Pulp Fiction - Tempo de Violência', 'ano': 1994, 'sinopse': 'As vidas de dois assassinos da máfia, um boxeador, um gângster e sua esposa, e um par de bandidos se entrelaçam em quatro histórias de violência e redenção.', 'diretor': 'Quentin Tarantino', 'atores': ['John Travolta', 'Uma Thurman', 'Samuel L. Jackson']}\n",
            "A posicao_nove é: {'titulo': 'O Senhor dos Anéis: A Sociedade do Anel', 'ano': 2001, 'sinopse': 'Um manso hobbit do Condado e oito companheiros partem em uma jornada para destruir o poderoso Um Anel e salvar a Terra-média das Trevas.', 'diretor': 'Peter Jackson', 'atores': ['Elijah Wood', 'Ian McKellen', 'Orlando Bloom']}\n",
            "A posicao_dez é: {'titulo': ' Três Homens em Conflito', 'ano': 1966, 'sinopse': 'Um impostor se junta com dois homens para encontrar fortuna num remoto cemitério.', 'diretor': 'Sergio Leone', 'atores': ['Clint Eastwood', 'Eli Wallach', 'Lee Van Cleef']}\n"
          ]
        }
      ]
    }
  ]
}