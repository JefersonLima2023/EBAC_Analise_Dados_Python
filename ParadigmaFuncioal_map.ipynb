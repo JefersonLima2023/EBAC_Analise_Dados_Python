{
  "nbformat": 4,
  "nbformat_minor": 0,
  "metadata": {
    "colab": {
      "provenance": [],
      "authorship_tag": "ABX9TyNWUGMzp1GoYnfFlSwboT1+",
      "include_colab_link": true
    },
    "kernelspec": {
      "name": "python3",
      "display_name": "Python 3"
    },
    "language_info": {
      "name": "python"
    }
  },
  "cells": [
    {
      "cell_type": "markdown",
      "metadata": {
        "id": "view-in-github",
        "colab_type": "text"
      },
      "source": [
        "<a href=\"https://colab.research.google.com/github/JefersonLima2023/EBAC_Analise_Dados_Python/blob/main/ParadigmaFuncioal_map.ipynb\" target=\"_parent\"><img src=\"https://colab.research.google.com/assets/colab-badge.svg\" alt=\"Open In Colab\"/></a>"
      ]
    },
    {
      "cell_type": "markdown",
      "source": [
        "# Paradigma Programação Funcional"
      ],
      "metadata": {
        "id": "fDNVr1CXSR6I"
      }
    },
    {
      "cell_type": "markdown",
      "source": [
        "# Função lambda\n",
        "## variavel = lambda params: expressão"
      ],
      "metadata": {
        "id": "Qr5WzrZtSZ32"
      }
    },
    {
      "cell_type": "code",
      "execution_count": null,
      "metadata": {
        "id": "-ytRj3R5SQ8K"
      },
      "outputs": [],
      "source": [
        "# Exemplo de função lambda para extrair provedor de email\n",
        "extrair_provedor_email = lambda email: email.split(sep='@')[-1]"
      ]
    },
    {
      "cell_type": "code",
      "source": [
        "email = 'jelimablm@gmail.com'\n",
        "print(email)\n",
        "\n",
        "provedor_email = extrair_provedor_email(email)\n",
        "print(provedor_email)"
      ],
      "metadata": {
        "colab": {
          "base_uri": "https://localhost:8080/"
        },
        "id": "Lc5GaC0sYfiG",
        "outputId": "c161d684-0b01-4981-c855-dfc72e65861b"
      },
      "execution_count": null,
      "outputs": [
        {
          "output_type": "stream",
          "name": "stdout",
          "text": [
            "jelimablm@gmail.com\n",
            "gmail.com\n"
          ]
        }
      ]
    },
    {
      "cell_type": "code",
      "source": [
        "def retorno(juros: float):\n",
        "  return lambda investimento: investimento * (1 + juros)"
      ],
      "metadata": {
        "id": "ByDtnTGnYffI"
      },
      "execution_count": null,
      "outputs": []
    },
    {
      "cell_type": "code",
      "source": [
        "retorno_5_porcento = retorno(juros = 0.05)"
      ],
      "metadata": {
        "id": "6403K18_Yfbn"
      },
      "execution_count": null,
      "outputs": []
    },
    {
      "cell_type": "code",
      "source": [
        "valor_final = retorno_5_porcento(investimento = 1000)\n",
        "print(valor_final)"
      ],
      "metadata": {
        "colab": {
          "base_uri": "https://localhost:8080/"
        },
        "id": "viTIzddlYfVI",
        "outputId": "41e494d8-22d7-4cbe-bf65-2468a32b523b"
      },
      "execution_count": null,
      "outputs": [
        {
          "output_type": "stream",
          "name": "stdout",
          "text": [
            "1050.0\n"
          ]
        }
      ]
    },
    {
      "cell_type": "code",
      "source": [
        "anos = 10\n",
        "valor_inicial = 1000\n",
        "valor_final = valor_inicial\n",
        "\n",
        "for ano in range(1, anos + 1):\n",
        "  valor_final = retorno_5_porcento(investimento = valor_final)\n",
        "\n",
        "valor_inicial = round(valor_final,2)\n",
        "print(round(valor_final,2))\n"
      ],
      "metadata": {
        "colab": {
          "base_uri": "https://localhost:8080/"
        },
        "id": "cVGCPhpbYfGp",
        "outputId": "dd9ecf9c-b296-448b-d626-f102056fcd0d"
      },
      "execution_count": null,
      "outputs": [
        {
          "output_type": "stream",
          "name": "stdout",
          "text": [
            "1628.89\n"
          ]
        }
      ]
    },
    {
      "cell_type": "markdown",
      "source": [
        "# Função map\n",
        "## variavel = map(funcao, colecao)"
      ],
      "metadata": {
        "id": "bBVvnC-bhOHI"
      }
    },
    {
      "cell_type": "code",
      "source": [
        "numeros = [1,2,3,4,5]\n",
        "\n",
        "numeros_ao_cubo = map(lambda num: num ** 3, numeros)\n",
        "\n",
        "print(list(numeros_ao_cubo))"
      ],
      "metadata": {
        "colab": {
          "base_uri": "https://localhost:8080/"
        },
        "id": "i0YjfDHFha21",
        "outputId": "543fb721-143a-44e3-ae69-ab1edf1167ac"
      },
      "execution_count": 13,
      "outputs": [
        {
          "output_type": "stream",
          "name": "stdout",
          "text": [
            "[1, 8, 27, 64, 125]\n"
          ]
        }
      ]
    },
    {
      "cell_type": "code",
      "source": [
        "emails = [\n",
        "    'andre.perez@gmail.com',\n",
        "    'andre.perez@live.com',\n",
        "    'andre.perez@yahoo.com'\n",
        "]\n",
        "extrair_provedor_email = lambda email: email.split(sep='@')[-1]"
      ],
      "metadata": {
        "id": "Uu992C2WyZY_"
      },
      "execution_count": 14,
      "outputs": []
    },
    {
      "cell_type": "code",
      "source": [
        "provedores = [] # Criando uma lista vazia. Será preenchida com cada provedor de\n",
        "                # email, lido a partir da lista de emails.\n",
        "\n",
        "for email in emails:\n",
        "  provedor = extrair_provedor_email(email)\n",
        "  provedores.append(provedor)\n",
        "\n",
        "print(provedores)"
      ],
      "metadata": {
        "colab": {
          "base_uri": "https://localhost:8080/"
        },
        "id": "GQjgczxwyZSI",
        "outputId": "dda79b82-0562-4b13-da10-0790284408cf"
      },
      "execution_count": 15,
      "outputs": [
        {
          "output_type": "stream",
          "name": "stdout",
          "text": [
            "['gmail.com', 'live.com', 'yahoo.com']\n"
          ]
        }
      ]
    },
    {
      "cell_type": "markdown",
      "source": [
        "## Funções map de alta ordem"
      ],
      "metadata": {
        "id": "Q9t-ZNKN1eEW"
      }
    },
    {
      "cell_type": "code",
      "source": [
        "provedores = map(extrair_provedor_email,emails)\n",
        "print(provedores)\n",
        "# Neste exemplo a função retona o endereço da posição na memória."
      ],
      "metadata": {
        "colab": {
          "base_uri": "https://localhost:8080/"
        },
        "id": "DBNS418KyY_1",
        "outputId": "cfb27846-3c40-4ede-c0c3-0631fc2ae9b1"
      },
      "execution_count": 16,
      "outputs": [
        {
          "output_type": "stream",
          "name": "stdout",
          "text": [
            "<map object at 0x7dccb8b915d0>\n"
          ]
        }
      ]
    },
    {
      "cell_type": "code",
      "source": [
        "provedores = list(map(extrair_provedor_email,emails))\n",
        "print(provedores)\n",
        "\n",
        "# Mas, se usarmos a função nativa list, a função map retorna a relação dos provedores."
      ],
      "metadata": {
        "colab": {
          "base_uri": "https://localhost:8080/"
        },
        "id": "7F6ftTxJ11Zu",
        "outputId": "bc4eee4a-747b-43b1-9742-cac14286dd29"
      },
      "execution_count": 17,
      "outputs": [
        {
          "output_type": "stream",
          "name": "stdout",
          "text": [
            "['gmail.com', 'live.com', 'yahoo.com']\n"
          ]
        }
      ]
    },
    {
      "cell_type": "code",
      "source": [],
      "metadata": {
        "id": "z1-JPBcG11OK"
      },
      "execution_count": null,
      "outputs": []
    }
  ]
}